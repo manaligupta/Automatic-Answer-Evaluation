{
  "nbformat": 4,
  "nbformat_minor": 0,
  "metadata": {
    "colab": {
      "name": "Polynomial Regression: Office Prices.ipynb",
      "provenance": [],
      "collapsed_sections": [],
      "authorship_tag": "ABX9TyNqCtYVq9+wKYO9ue5TKy3c"
    },
    "kernelspec": {
      "name": "python3",
      "display_name": "Python 3"
    },
    "language_info": {
      "name": "python"
    }
  },
  "cells": [
    {
      "cell_type": "code",
      "execution_count": null,
      "metadata": {
        "id": "Hfp7Hu9Mxunh"
      },
      "outputs": [],
      "source": [
        "# Polynomial Regression: Office Prices  \n",
        "import numpy as np\n",
        "import pandas as pd\n",
        "from sklearn import linear_model as lm\n",
        "from sklearn import preprocessing as pp\n",
        "\n",
        "F, N = map(int, input().split())\n",
        "train = np.array([input().split() for _ in range(N)], float)\n",
        "T = int(input())\n",
        "test = np.array([input().split() for _ in range(T)], float)\n",
        "\n",
        "mod = lm.LinearRegression()\n",
        "XtoP = pp.PolynomialFeatures(4, include_bias=False)\n",
        "mod.fit(XtoP.fit_transform(train[:, :-1]), train[:, -1])\n",
        "\n",
        "ymod = mod.predict(XtoP.fit_transform(test))\n",
        "print(*ymod, sep='\\n')\n"
      ]
    }
  ]
}